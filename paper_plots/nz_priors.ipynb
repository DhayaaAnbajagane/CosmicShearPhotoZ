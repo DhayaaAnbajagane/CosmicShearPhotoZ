{
 "cells": [
  {
   "cell_type": "code",
   "execution_count": 1,
   "id": "b232117b",
   "metadata": {},
   "outputs": [],
   "source": [
    "from astropy.io import fits\n",
    "import numpy as np\n",
    "import matplotlib.pyplot as plt\n",
    "import glob\n",
    "from scipy import stats"
   ]
  },
  {
   "cell_type": "markdown",
   "id": "3416e2a2",
   "metadata": {},
   "source": [
    "# Load fiducial n(z)s"
   ]
  },
  {
   "cell_type": "code",
   "execution_count": 2,
   "id": "0541129f",
   "metadata": {},
   "outputs": [],
   "source": [
    "np.random.seed(42)"
   ]
  },
  {
   "cell_type": "code",
   "execution_count": 11,
   "id": "626b5190",
   "metadata": {},
   "outputs": [],
   "source": [
    "colors2 =['C0', 'C1', 'C2', 'C3']\n",
    "\n",
    "Likelihood  = np.load('/project/chihway/dhayaa/DECADE/SOMPZ/Runs/20240408/Final/LnLikelihood_Fiducial.npy')\n",
    "max_like    = np.min(Likelihood[..., 0], axis = 0)\n",
    "good        = np.abs(Likelihood[..., 0] - max_like) < stats.chi2.ppf(stats.norm.cdf(5), 8)/2"
   ]
  },
  {
   "cell_type": "code",
   "execution_count": 3,
   "id": "60501071",
   "metadata": {},
   "outputs": [],
   "source": [
    "min_z   = 0.01\n",
    "max_z   = 5\n",
    "delta_z = 0.05\n",
    "zbins   = np.arange(min_z,max_z+delta_z,delta_z)\n",
    "zbinsc  = zbins[:-1]+(zbins[1]-zbins[0])/2.\n",
    "\n",
    "files = sorted(glob.glob('/project/chihway/dhayaa/DECADE/SOMPZ/Runs/20240408/Final/nz_Samp*.npy'))\n",
    "Final = np.concatenate([np.load(f) for f in files])\n",
    "inds  = np.random.choice(Final.shape[0], 10_000, replace = False)\n",
    "WZ    = Final.copy()\n",
    "Final = Final[inds]\n",
    "\n",
    "files = sorted(glob.glob('/project/chihway/dhayaa/DECADE/SOMPZ/Runs/20240408/ZP/nz_Samp*.npy'))\n",
    "ZP = np.concatenate([np.load(f) for f in files])\n",
    "ZP = ZP[inds]\n",
    "\n",
    "files = sorted(glob.glob('/project/chihway/dhayaa/DECADE/SOMPZ/Runs/20240408/ZB/nz_Samp*.npy'))\n",
    "ZB = np.concatenate([np.load(f) for f in files])\n",
    "ZB = ZB[inds]"
   ]
  },
  {
   "cell_type": "markdown",
   "id": "98014165",
   "metadata": {},
   "source": [
    "# Check ramping"
   ]
  },
  {
   "cell_type": "code",
   "execution_count": 11,
   "id": "7a67bb1c",
   "metadata": {},
   "outputs": [
    {
     "name": "stdout",
     "output_type": "stream",
     "text": [
      "0.01 --> SOMPZ <z>:      [0.3345 0.5051 0.7111 0.9092]\n",
      "0.05 --> SOMPZ <z>:      [0.3345 0.5051 0.7112 0.9092]\n",
      "0.1  --> SOMPZ <z>:      [0.3365 0.5058 0.7114 0.9093]\n",
      "0.15 --> SOMPZ <z>:      [0.3419 0.5078 0.712  0.9096]\n"
     ]
    }
   ],
   "source": [
    "for i in [0.01, 0.05, 0.1, 0.15]:\n",
    "    modder       = np.where(zbinsc[None, None, :] <= i, zbinsc[None,:]/i, 1)\n",
    "    Final_mod    = Final * modder\n",
    "    mean_z_SOMPZ = np.trapz(Final_mod * zbinsc[None, None, :], zbinsc, axis = -1)/np.trapz(Final_mod, zbinsc, axis = -1)\n",
    "    print(f\"{str(i).ljust(4)} --> SOMPZ <z>:     \", np.round(np.mean(mean_z_SOMPZ, axis = 0), 4))"
   ]
  },
  {
   "cell_type": "markdown",
   "id": "aa470806",
   "metadata": {},
   "source": [
    "# Estimate the mean redshifts"
   ]
  },
  {
   "cell_type": "code",
   "execution_count": 35,
   "id": "9e815a20",
   "metadata": {},
   "outputs": [
    {
     "name": "stderr",
     "output_type": "stream",
     "text": [
      "/tmp/jobs/41273958/ipykernel_210326/3209583755.py:2: VisibleDeprecationWarning: Creating an ndarray from ragged nested sequences (which is a list-or-tuple of lists-or-tuples-or ndarrays with different lengths or shapes) is deprecated. If you meant to do this, you must specify 'dtype=object' when creating the ndarray.\n",
      "  mean_z_WZ    = np.array([np.trapz(WZ[good[:, i], i] * zbinsc[None, :], zbinsc, axis = -1)/np.trapz(WZ[good[:, i], i], zbinsc, axis = -1)\n"
     ]
    }
   ],
   "source": [
    "mean_z_SOMPZ = np.trapz(Final * zbinsc[None, None, :], zbinsc, axis = -1)/np.trapz(Final, zbinsc, axis = -1)\n",
    "mean_z_WZ    = np.array([np.trapz(WZ[good[:, i], i] * zbinsc[None, :], zbinsc, axis = -1)/np.trapz(WZ[good[:, i], i], zbinsc, axis = -1)\n",
    "                         for i in range(4)])"
   ]
  },
  {
   "cell_type": "code",
   "execution_count": 36,
   "id": "3527af56",
   "metadata": {},
   "outputs": [
    {
     "name": "stdout",
     "output_type": "stream",
     "text": [
      "SOMPZ <z>:      [0.3344 0.505  0.7111 0.9093]\n",
      "SOMPZ + WZ <z>: [0.3275 0.5051 0.7174 0.9129]\n"
     ]
    }
   ],
   "source": [
    "print(\"SOMPZ <z>:     \", np.round(np.mean(mean_z_SOMPZ, axis = 0), 4))\n",
    "print(\"SOMPZ + WZ <z>:\", np.round([np.mean(mean_z_WZ[i], axis = 0) for i in range(4)], 4))"
   ]
  },
  {
   "cell_type": "markdown",
   "id": "248626c7",
   "metadata": {},
   "source": [
    "# Now the uncertainties"
   ]
  },
  {
   "cell_type": "code",
   "execution_count": 37,
   "id": "31eb31bc",
   "metadata": {},
   "outputs": [
    {
     "name": "stdout",
     "output_type": "stream",
     "text": [
      "SOMPZ sig(<z>):      [0.0069 0.0074 0.0069 0.0078]\n",
      "SOMPZ + WZ sig(<z>): [0.0067 0.0079 0.0073 0.0079]\n"
     ]
    }
   ],
   "source": [
    "print(\"SOMPZ sig(<z>):     \", np.round(np.std(mean_z_SOMPZ, axis = 0), 4))\n",
    "print(\"SOMPZ + WZ sig(<z>):\", np.round([np.std(mean_z_WZ[i], axis = 0) for i in range(4)], 4))"
   ]
  },
  {
   "cell_type": "code",
   "execution_count": null,
   "id": "c6e14996",
   "metadata": {},
   "outputs": [],
   "source": []
  },
  {
   "cell_type": "code",
   "execution_count": 57,
   "id": "19e2f386",
   "metadata": {},
   "outputs": [
    {
     "name": "stdout",
     "output_type": "stream",
     "text": [
      "SOMPZ sig(<z>):      [0.007  0.0074 0.0069 0.0078]\n",
      "SOMPZ sig(<z>):      [0.0062 0.007  0.0066 0.0077]\n"
     ]
    }
   ],
   "source": [
    "print(\"SOMPZ sig(<z>):     \", np.round(np.std(mean_z_ZP, axis = 0), 4))\n",
    "print(\"SOMPZ sig(<z>):     \", np.round(np.std(mean_z_ZB, axis = 0), 4))"
   ]
  },
  {
   "cell_type": "markdown",
   "id": "ff1dcd20",
   "metadata": {},
   "source": [
    "#### Add on the offsets specifically from ZP and ZB"
   ]
  },
  {
   "cell_type": "code",
   "execution_count": 38,
   "id": "ff908deb",
   "metadata": {},
   "outputs": [],
   "source": [
    "mean_z_ZP = np.trapz(ZP * zbinsc[None, None, :], zbinsc, axis = -1)/np.trapz(ZP, zbinsc, axis = -1)\n",
    "mean_z_ZB = np.trapz(ZB * zbinsc[None, None, :], zbinsc, axis = -1)/np.trapz(ZB, zbinsc, axis = -1)"
   ]
  },
  {
   "cell_type": "code",
   "execution_count": 58,
   "id": "641a458a",
   "metadata": {},
   "outputs": [
    {
     "name": "stdout",
     "output_type": "stream",
     "text": [
      "SOMPZ sig(<z>), No ZB:      [0.007  0.0074 0.0069 0.0078]\n",
      "SOMPZ sig(<z>), No ZP:      [0.0062 0.007  0.0066 0.0077]\n"
     ]
    }
   ],
   "source": [
    "print(\"SOMPZ sig(<z>), No ZB:     \", np.round(np.std(mean_z_ZP, axis = 0), 4))\n",
    "print(\"SOMPZ sig(<z>), No ZP:     \", np.round(np.std(mean_z_ZB, axis = 0), 4))"
   ]
  }
 ],
 "metadata": {
  "kernelspec": {
   "display_name": "shearDM",
   "language": "python",
   "name": "sheardm"
  },
  "language_info": {
   "codemirror_mode": {
    "name": "ipython",
    "version": 3
   },
   "file_extension": ".py",
   "mimetype": "text/x-python",
   "name": "python",
   "nbconvert_exporter": "python",
   "pygments_lexer": "ipython3",
   "version": "3.10.9"
  }
 },
 "nbformat": 4,
 "nbformat_minor": 5
}
