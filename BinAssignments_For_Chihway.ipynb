{
 "cells": [
  {
   "cell_type": "code",
   "execution_count": 1,
   "id": "d7136f7f",
   "metadata": {},
   "outputs": [],
   "source": [
    "from astropy.io import fits\n",
    "import numpy as np, healpy as hp, h5py, pandas as pd\n",
    "import matplotlib.pyplot as plt\n",
    "import glob\n",
    "import h5py\n",
    "\n",
    "import sys"
   ]
  },
  {
   "cell_type": "code",
   "execution_count": 3,
   "id": "8e8ee419",
   "metadata": {},
   "outputs": [
    {
     "name": "stdout",
     "output_type": "stream",
     "text": [
      "baseline_mcal_mask_1m 62762204\n",
      "baseline_mcal_mask_1p 62762521\n",
      "baseline_mcal_mask_2m 62760676\n",
      "baseline_mcal_mask_2p 62762385\n",
      "baseline_mcal_mask_noshear 62755887\n"
     ]
    }
   ],
   "source": [
    "with h5py.File('/project/chihway/data/decade/metacal_gold_combined_mask_20241003.hdf', 'r') as f:\n",
    "    \n",
    "    for i in f.keys():\n",
    "        print(i, f[i][:].sum())"
   ]
  },
  {
   "cell_type": "code",
   "execution_count": 4,
   "id": "fdc59add",
   "metadata": {},
   "outputs": [
    {
     "name": "stdout",
     "output_type": "stream",
     "text": [
      "/project/chihway/dhayaa/DECADE/SOMPZ/For_Chihway/BinAssignments_1m_20241003_V2.hdf5\r\n",
      "/project/chihway/dhayaa/DECADE/SOMPZ/For_Chihway/BinAssignments_1p_20241003_V2.hdf5\r\n",
      "/project/chihway/dhayaa/DECADE/SOMPZ/For_Chihway/BinAssignments_2m_20241003_V2.hdf5\r\n",
      "/project/chihway/dhayaa/DECADE/SOMPZ/For_Chihway/BinAssignments_2p_20241003_V2.hdf5\r\n",
      "/project/chihway/dhayaa/DECADE/SOMPZ/For_Chihway/BinAssignments_noshear_20241003_V2.hdf5\r\n"
     ]
    }
   ],
   "source": [
    "!ls /project/chihway/dhayaa/DECADE/SOMPZ/For_Chihway/BinAssignments_*_20241003_V2.hdf5"
   ]
  },
  {
   "cell_type": "code",
   "execution_count": 2,
   "id": "dea0abd2",
   "metadata": {},
   "outputs": [
    {
     "name": "stdout",
     "output_type": "stream",
     "text": [
      "62755887\n"
     ]
    }
   ],
   "source": [
    "ID = np.load('/project/chihway/dhayaa/DECADE/SOMPZ/Runs/20241223_DR3_2/WIDE_DATA_ID.npy')\n",
    "\n",
    "CLASSIFIED = pd.DataFrame()\n",
    "\n",
    "CLASSIFIED['ID']   = np.load('/project/chihway/dhayaa/DECADE/SOMPZ/Runs/20241223_DR3_2/WIDE_DATA_ID.npy')\n",
    "CLASSIFIED['CELL'] = np.load('/project/chihway/dhayaa/DECADE/SOMPZ/Runs/20241223_DR3_2/collated_wide_classifier.npy').astype(int)\n",
    "CLASSIFIED['BIN']  = np.load('/project/chihway/dhayaa/DECADE/SOMPZ/Runs/20241223_DR3_2/TomoBinAssign.npy')[CLASSIFIED['CELL'].values]\n",
    "\n",
    "print(len(CLASSIFIED))\n",
    "CLASSIFIED.to_hdf('/project/chihway/dhayaa/DECADE/SOMPZ/For_Chihway/BinAssignments_noshear_20241003_V2.hdf5', mode = 'w', index = False, key = 'data')"
   ]
  },
  {
   "cell_type": "code",
   "execution_count": 3,
   "id": "b50d4212",
   "metadata": {},
   "outputs": [
    {
     "name": "stdout",
     "output_type": "stream",
     "text": [
      "62762521\n",
      "62762204\n",
      "62762385\n",
      "62760676\n"
     ]
    }
   ],
   "source": [
    "for t in ['1p', '1m', '2p', '2m']:\n",
    "    ID = np.load(f'/project/chihway/dhayaa/DECADE/SOMPZ/Runs/20241223_DR3_2/WIDE_DATA_ID_{t}.npy')\n",
    "\n",
    "    CLASSIFIED = pd.DataFrame()\n",
    "\n",
    "\n",
    "    CLASSIFIED['ID']   = np.load(f'/project/chihway/dhayaa/DECADE/SOMPZ/Runs/20241223_DR3_2/WIDE_DATA_ID_{t}.npy')\n",
    "    CLASSIFIED['CELL'] = np.load(f'/project/chihway/dhayaa/DECADE/SOMPZ/Runs/20241223_DR3_2/collated_wide_{t}_classifier.npy').astype(int)\n",
    "    CLASSIFIED['BIN']  = np.load(f'/project/chihway/dhayaa/DECADE/SOMPZ/Runs/20241223_DR3_2/TomoBinAssign.npy')[CLASSIFIED['CELL'].values]\n",
    "\n",
    "    print(len(CLASSIFIED))\n",
    "    \n",
    "    CLASSIFIED.to_hdf(f'/project/chihway/dhayaa/DECADE/SOMPZ/For_Chihway/BinAssignments_{t}_20241003_V2.hdf5', mode = 'w', index = False, key = 'data')"
   ]
  }
 ],
 "metadata": {
  "kernelspec": {
   "display_name": "shearDM",
   "language": "python",
   "name": "sheardm"
  },
  "language_info": {
   "codemirror_mode": {
    "name": "ipython",
    "version": 3
   },
   "file_extension": ".py",
   "mimetype": "text/x-python",
   "name": "python",
   "nbconvert_exporter": "python",
   "pygments_lexer": "ipython3",
   "version": "3.10.9"
  }
 },
 "nbformat": 4,
 "nbformat_minor": 5
}
